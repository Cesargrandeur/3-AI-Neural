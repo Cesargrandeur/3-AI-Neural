{
 "cells": [
  {
   "cell_type": "markdown",
   "metadata": {},
   "source": [
    "# Business Analytics and Artificial Intelligence\n",
    "Summer semester 2024\n",
    "\n",
    "Prof. Dr. Jürgen Bock"
   ]
  },
  {
   "cell_type": "markdown",
   "metadata": {},
   "source": [
    "## Exercises regarding foundations of artificial neural networks in PyTorch"
   ]
  },
  {
   "cell_type": "markdown",
   "metadata": {},
   "source": [
    "This notebook offers exercises for the basics of artificial neural networks in *PyTorch*. The single tasks are described in Markdown cells. Enter your solution in the code cell following the task description, and add further code cells if needed."
   ]
  },
  {
   "cell_type": "markdown",
   "metadata": {},
   "source": [
    "### Learning goals\n",
    "* You are able to implement simple artificual neurons and to analyse the influence of the single components.\n",
    "* You are able to prepare structured data sets for their use in *PyTorch* and to define simple multi-layered neural networks.\n",
    "* You are able to embed your own neural networks in a generic learning algorithms and to train it with different data sets.\n",
    "* You are able to analyse and discuss the effect of different hyperparameters on the learning process and the quality of the learned model."
   ]
  },
  {
   "cell_type": "markdown",
   "metadata": {},
   "source": [
    "### Simple Neurons"
   ]
  },
  {
   "cell_type": "markdown",
   "metadata": {},
   "source": [
    "Consider the Boolean function *NAND*.\n",
    "\n",
    "The truth table for NAND is as follows:\n",
    "\n",
    "| NAND | 0 | 1 |\n",
    "|-----|---|---| \n",
    "| **0**   | 1 | 1 |\n",
    "| **1**   | 1 | 0 |"
   ]
  },
  {
   "cell_type": "markdown",
   "metadata": {},
   "source": [
    "Why is this function computable with a single neuron?"
   ]
  },
  {
   "cell_type": "markdown",
   "metadata": {},
   "source": [
    "*Answer:* "
   ]
  },
  {
   "cell_type": "markdown",
   "metadata": {},
   "source": [
    "How would this single neuron need to be configured (inputs, weights)? "
   ]
  },
  {
   "cell_type": "markdown",
   "metadata": {},
   "source": [
    "*Answer:* "
   ]
  },
  {
   "cell_type": "markdown",
   "metadata": {},
   "source": [
    "Implement the computation in Python and test your solution."
   ]
  },
  {
   "cell_type": "code",
   "execution_count": null,
   "metadata": {},
   "outputs": [],
   "source": []
  },
  {
   "cell_type": "markdown",
   "metadata": {},
   "source": [
    "### Multi-layered neural networks"
   ]
  },
  {
   "cell_type": "markdown",
   "metadata": {},
   "source": [
    "#### Synthetic Data"
   ]
  },
  {
   "cell_type": "markdown",
   "metadata": {},
   "source": [
    "Consider the following (synthecital) data set with two features and two classes:"
   ]
  },
  {
   "cell_type": "code",
   "execution_count": null,
   "metadata": {},
   "outputs": [],
   "source": [
    "from sklearn import datasets\n",
    "\n",
    "data = datasets.make_circles(\n",
    "    n_samples = 10000,\n",
    "    noise = 0.1,\n",
    "    factor = 0.5 )"
   ]
  },
  {
   "cell_type": "markdown",
   "metadata": {},
   "source": [
    "Make yourself familiar with this data set by creating a scatter plot."
   ]
  },
  {
   "cell_type": "code",
   "execution_count": null,
   "metadata": {},
   "outputs": [],
   "source": []
  },
  {
   "cell_type": "markdown",
   "metadata": {},
   "source": [
    "Define a multi-layered neural network using *PyTorch* and implement a training routine."
   ]
  },
  {
   "cell_type": "code",
   "execution_count": null,
   "metadata": {},
   "outputs": [],
   "source": []
  },
  {
   "cell_type": "markdown",
   "metadata": {},
   "source": [
    "Ensure that the module ``dataview`` is in the current directory (or in ``sys.path``). Use the function ``dataview.plot_decision_boundary2d(model, X, y)`` in order to visualize the *decision boundary*."
   ]
  },
  {
   "cell_type": "code",
   "execution_count": null,
   "metadata": {},
   "outputs": [],
   "source": [
    "import dataview"
   ]
  },
  {
   "cell_type": "code",
   "execution_count": null,
   "metadata": {},
   "outputs": [],
   "source": []
  },
  {
   "cell_type": "markdown",
   "metadata": {},
   "source": [
    "Experiment with the so-called *hyperparameters*: Change the number of and width of the layers, change the number of epochs and the *batch size*. Have a look at the *PyTorch* API documentation and experiment with different activation functions and optimizers.\n",
    "\n",
    "**Note:** After changing the model, the object instance of the model must be re-initialized (e.g. ``model = Net()``). Also, the optimizer and other auxiliary variebles, e.g., a ``loss_history``, etc., must be re-initialized."
   ]
  },
  {
   "cell_type": "markdown",
   "metadata": {},
   "source": [
    "Which were your finding?"
   ]
  },
  {
   "cell_type": "markdown",
   "metadata": {},
   "source": [
    "*Answer:*\n",
    "- ..."
   ]
  },
  {
   "cell_type": "markdown",
   "metadata": {},
   "source": [
    "#### Real Data"
   ]
  },
  {
   "cell_type": "markdown",
   "metadata": {},
   "source": [
    "Use ``scikit-learn`` to obtain the *Breast Cancer Wisconsin* data set. See: https://scikit-learn.org/stable/modules/generated/sklearn.datasets.load_breast_cancer.html"
   ]
  },
  {
   "cell_type": "code",
   "execution_count": null,
   "metadata": {},
   "outputs": [],
   "source": []
  },
  {
   "cell_type": "markdown",
   "metadata": {},
   "source": [
    "Make yourself familiar with the function ``train_test_split`` from the module ``sklearn.model_selection``. Use this function to split the data set into training and test set."
   ]
  },
  {
   "cell_type": "code",
   "execution_count": null,
   "metadata": {},
   "outputs": [],
   "source": []
  },
  {
   "cell_type": "markdown",
   "metadata": {},
   "source": [
    "Define a neural network and use the training data set to train it. Note the lengths of input and output vector when defining the network structure."
   ]
  },
  {
   "cell_type": "code",
   "execution_count": null,
   "metadata": {},
   "outputs": [],
   "source": []
  },
  {
   "cell_type": "markdown",
   "metadata": {},
   "source": [
    "Use ``scikit-learn`` to create a *classification report*, based on which you can evaluate your model.\n",
    "\n",
    "To do this, first compute the ouput vector using your neural network for the input vectors of the test data set.\n",
    "\n",
    "**Note:** ``torch.from_numpy`` creates a tensor from a *NumPy* array, which is the data structure of the test data sets. Also, you need to convert the input vector into a ``FloatTensor``.\n",
    "\n",
    "For *classification report* you need to convert the floating point numbers from the output vector (resulting from the ``sigmoid`` activation function) to integer values."
   ]
  },
  {
   "cell_type": "code",
   "execution_count": null,
   "metadata": {},
   "outputs": [],
   "source": []
  }
 ],
 "metadata": {
  "kernelspec": {
   "display_name": "Python 3 (ipykernel)",
   "language": "python",
   "name": "python3"
  },
  "language_info": {
   "codemirror_mode": {
    "name": "ipython",
    "version": 3
   },
   "file_extension": ".py",
   "mimetype": "text/x-python",
   "name": "python",
   "nbconvert_exporter": "python",
   "pygments_lexer": "ipython3",
   "version": "3.8.12"
  }
 },
 "nbformat": 4,
 "nbformat_minor": 4
}
